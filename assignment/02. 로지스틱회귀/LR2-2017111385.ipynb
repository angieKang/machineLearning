{
 "cells": [
  {
   "cell_type": "markdown",
   "id": "31aca99f",
   "metadata": {},
   "source": [
    "# \tProgramming Homework #2: 로지스틱 회귀\n",
    "csv 파일을 통해 비행기 탑승 승객 리스트를 ID, Survival, Class, Gender, Age 순으로 수치화하여 데이터를 만드세요.\n",
    "\n",
    "사이킷런을 사용해 로지스틱회귀를 실행하여 생존율 예측 모델을 만들고, 추정 확률과 결정 경계를 그림 4-23과 같이 출력하세요."
   ]
  },
  {
   "cell_type": "code",
   "execution_count": 7,
   "id": "13f747db",
   "metadata": {},
   "outputs": [],
   "source": [
    "import pandas as pd\n",
    "plane = pd.read_csv(\"plane.csv\", encoding='utf-8')"
   ]
  },
  {
   "cell_type": "code",
   "execution_count": 8,
   "id": "e7f62fa3",
   "metadata": {},
   "outputs": [
    {
     "data": {
      "text/html": [
       "<div>\n",
       "<style scoped>\n",
       "    .dataframe tbody tr th:only-of-type {\n",
       "        vertical-align: middle;\n",
       "    }\n",
       "\n",
       "    .dataframe tbody tr th {\n",
       "        vertical-align: top;\n",
       "    }\n",
       "\n",
       "    .dataframe thead th {\n",
       "        text-align: right;\n",
       "    }\n",
       "</style>\n",
       "<table border=\"1\" class=\"dataframe\">\n",
       "  <thead>\n",
       "    <tr style=\"text-align: right;\">\n",
       "      <th></th>\n",
       "      <th>ID</th>\n",
       "      <th>Survival</th>\n",
       "      <th>Class</th>\n",
       "      <th>Gender</th>\n",
       "      <th>Age</th>\n",
       "    </tr>\n",
       "  </thead>\n",
       "  <tbody>\n",
       "    <tr>\n",
       "      <th>0</th>\n",
       "      <td>1</td>\n",
       "      <td>0</td>\n",
       "      <td>3</td>\n",
       "      <td>male</td>\n",
       "      <td>22.0</td>\n",
       "    </tr>\n",
       "    <tr>\n",
       "      <th>1</th>\n",
       "      <td>2</td>\n",
       "      <td>1</td>\n",
       "      <td>1</td>\n",
       "      <td>female</td>\n",
       "      <td>38.0</td>\n",
       "    </tr>\n",
       "    <tr>\n",
       "      <th>2</th>\n",
       "      <td>3</td>\n",
       "      <td>1</td>\n",
       "      <td>3</td>\n",
       "      <td>female</td>\n",
       "      <td>26.0</td>\n",
       "    </tr>\n",
       "    <tr>\n",
       "      <th>3</th>\n",
       "      <td>4</td>\n",
       "      <td>1</td>\n",
       "      <td>1</td>\n",
       "      <td>female</td>\n",
       "      <td>35.0</td>\n",
       "    </tr>\n",
       "    <tr>\n",
       "      <th>4</th>\n",
       "      <td>5</td>\n",
       "      <td>0</td>\n",
       "      <td>3</td>\n",
       "      <td>male</td>\n",
       "      <td>35.0</td>\n",
       "    </tr>\n",
       "    <tr>\n",
       "      <th>...</th>\n",
       "      <td>...</td>\n",
       "      <td>...</td>\n",
       "      <td>...</td>\n",
       "      <td>...</td>\n",
       "      <td>...</td>\n",
       "    </tr>\n",
       "    <tr>\n",
       "      <th>95</th>\n",
       "      <td>96</td>\n",
       "      <td>0</td>\n",
       "      <td>2</td>\n",
       "      <td>male</td>\n",
       "      <td>21.0</td>\n",
       "    </tr>\n",
       "    <tr>\n",
       "      <th>96</th>\n",
       "      <td>97</td>\n",
       "      <td>0</td>\n",
       "      <td>2</td>\n",
       "      <td>male</td>\n",
       "      <td>32.5</td>\n",
       "    </tr>\n",
       "    <tr>\n",
       "      <th>97</th>\n",
       "      <td>98</td>\n",
       "      <td>1</td>\n",
       "      <td>2</td>\n",
       "      <td>female</td>\n",
       "      <td>32.5</td>\n",
       "    </tr>\n",
       "    <tr>\n",
       "      <th>98</th>\n",
       "      <td>99</td>\n",
       "      <td>0</td>\n",
       "      <td>1</td>\n",
       "      <td>male</td>\n",
       "      <td>54.0</td>\n",
       "    </tr>\n",
       "    <tr>\n",
       "      <th>99</th>\n",
       "      <td>100</td>\n",
       "      <td>1</td>\n",
       "      <td>3</td>\n",
       "      <td>male</td>\n",
       "      <td>12.0</td>\n",
       "    </tr>\n",
       "  </tbody>\n",
       "</table>\n",
       "<p>100 rows × 5 columns</p>\n",
       "</div>"
      ],
      "text/plain": [
       "     ID  Survival  Class  Gender   Age\n",
       "0     1         0      3    male  22.0\n",
       "1     2         1      1  female  38.0\n",
       "2     3         1      3  female  26.0\n",
       "3     4         1      1  female  35.0\n",
       "4     5         0      3    male  35.0\n",
       "..  ...       ...    ...     ...   ...\n",
       "95   96         0      2    male  21.0\n",
       "96   97         0      2    male  32.5\n",
       "97   98         1      2  female  32.5\n",
       "98   99         0      1    male  54.0\n",
       "99  100         1      3    male  12.0\n",
       "\n",
       "[100 rows x 5 columns]"
      ]
     },
     "execution_count": 8,
     "metadata": {},
     "output_type": "execute_result"
    }
   ],
   "source": [
    "plane"
   ]
  },
  {
   "cell_type": "markdown",
   "id": "502ff9e7",
   "metadata": {},
   "source": [
    "### By Class"
   ]
  },
  {
   "cell_type": "code",
   "execution_count": 109,
   "id": "fc9a10c2",
   "metadata": {},
   "outputs": [],
   "source": [
    "import numpy as np\n",
    "\n",
    "Xc = plane[['Class']].values\n",
    "y = plane['Survival'].values"
   ]
  },
  {
   "cell_type": "code",
   "execution_count": 110,
   "id": "75a47035",
   "metadata": {},
   "outputs": [
    {
     "data": {
      "text/plain": [
       "LogisticRegression()"
      ]
     },
     "execution_count": 110,
     "metadata": {},
     "output_type": "execute_result"
    }
   ],
   "source": [
    "from sklearn.linear_model import LogisticRegression\n",
    "log_reg_class = LogisticRegression()\n",
    "log_reg_class.fit(Xc, y)"
   ]
  },
  {
   "cell_type": "code",
   "execution_count": 111,
   "id": "dcfbf6bb",
   "metadata": {},
   "outputs": [
    {
     "data": {
      "text/plain": [
       "Text(0.5, 0, 'class: 1, 2, 3')"
      ]
     },
     "execution_count": 111,
     "metadata": {},
     "output_type": "execute_result"
    },
    {
     "data": {
      "image/png": "[encoded data removed]",
      "text/plain": [
       "<Figure size 432x288 with 1 Axes>"
      ]
     },
     "metadata": {
      "needs_background": "light"
     },
     "output_type": "display_data"
    }
   ],
   "source": [
    "import matplotlib.pyplot as plt\n",
    "\n",
    "#np.linspace(x, y, z): x~y범위의 균일한 점 z개로 구성된 벡터 생성,    reshape(-1, 1): 열 1개로 구성된 배열로 변경\n",
    "X_class = np.linspace(1, 3, 1000).reshape(-1, 1)\n",
    "y_proba_class = log_reg_class.predict_proba(X_class)\n",
    "\n",
    "plt.title('Class')\n",
    "plt.plot(X_class, y_proba_class[:, 1], \"g-\", linewidth=2, label=\"Survival\")\n",
    "plt.plot(X_class, y_proba_class[:, 0], \"b-\", linewidth=2, label=\"Dead\")\n",
    "plt.legend()\n",
    "plt.ylabel(\"probability\") \n",
    "plt.xlabel(\"class: 1, 2, 3\") "
   ]
  },
  {
   "cell_type": "markdown",
   "id": "c4b42f28",
   "metadata": {},
   "source": [
    "### By gender"
   ]
  },
  {
   "cell_type": "code",
   "execution_count": 112,
   "id": "0b7ddce9",
   "metadata": {},
   "outputs": [],
   "source": [
    "Xg = (plane[['Gender']] == 'female').astype(np.int32)   #female이면 1, male이면 0"
   ]
  },
  {
   "cell_type": "code",
   "execution_count": 113,
   "id": "e9190133",
   "metadata": {},
   "outputs": [
    {
     "data": {
      "text/plain": [
       "LogisticRegression()"
      ]
     },
     "execution_count": 113,
     "metadata": {},
     "output_type": "execute_result"
    }
   ],
   "source": [
    "log_reg_gender = LogisticRegression()\n",
    "log_reg_gender.fit(Xg, y)"
   ]
  },
  {
   "cell_type": "code",
   "execution_count": 114,
   "id": "3b7c1a86",
   "metadata": {},
   "outputs": [
    {
     "data": {
      "text/plain": [
       "Text(0.5, 0, '1: female    0: male')"
      ]
     },
     "execution_count": 114,
     "metadata": {},
     "output_type": "execute_result"
    },
    {
     "data": {
      "image/png": "[encoded data removed]",
      "text/plain": [
       "<Figure size 432x288 with 1 Axes>"
      ]
     },
     "metadata": {
      "needs_background": "light"
     },
     "output_type": "display_data"
    }
   ],
   "source": [
    "#np.linspace(x, y, z): x~y범위의 균일한 점 z개로 구성된 벡터 생성,    reshape(-1, 1): 열 1개로 구성된 배열로 변경\n",
    "X_gender = np.linspace(0, 1, 1000).reshape(-1, 1)\n",
    "y_proba_gender = log_reg_gender.predict_proba(X_gender)\n",
    "\n",
    "plt.title('Gender')\n",
    "plt.plot(X_gender, y_proba_gender[:, 1], \"g-\", linewidth=2, label=\"Survival\")\n",
    "plt.plot(X_gender, y_proba_gender[:, 0], \"b-\", linewidth=2, label=\"Dead\")\n",
    "plt.legend()\n",
    "plt.ylabel(\"probability\") \n",
    "plt.xlabel(\"1: female    0: male\") "
   ]
  },
  {
   "cell_type": "markdown",
   "id": "2ad9b6a4",
   "metadata": {},
   "source": [
    "### By age"
   ]
  },
  {
   "cell_type": "code",
   "execution_count": 115,
   "id": "724fe209",
   "metadata": {},
   "outputs": [],
   "source": [
    "Xa = plane[['Age']].values"
   ]
  },
  {
   "cell_type": "code",
   "execution_count": 116,
   "id": "f2d1c3f0",
   "metadata": {},
   "outputs": [
    {
     "data": {
      "text/plain": [
       "LogisticRegression()"
      ]
     },
     "execution_count": 116,
     "metadata": {},
     "output_type": "execute_result"
    }
   ],
   "source": [
    "log_reg_age = LogisticRegression()\n",
    "log_reg_age.fit(Xa, y)"
   ]
  },
  {
   "cell_type": "code",
   "execution_count": 118,
   "id": "9007f432",
   "metadata": {},
   "outputs": [
    {
     "data": {
      "text/plain": [
       "Text(0.5, 0, 'age')"
      ]
     },
     "execution_count": 118,
     "metadata": {},
     "output_type": "execute_result"
    },
    {
     "data": {
      "image/png": "[encoded data removed]",
      "text/plain": [
       "<Figure size 432x288 with 1 Axes>"
      ]
     },
     "metadata": {
      "needs_background": "light"
     },
     "output_type": "display_data"
    }
   ],
   "source": [
    "#np.linspace(x, y, z): x~y범위의 균일한 점 z개로 구성된 벡터 생성,    reshape(-1, 1): 열 1개로 구성된 배열로 변경\n",
    "X_age = np.linspace(0, 100, 1000).reshape(-1, 1)\n",
    "y_proba_age = log_reg_age.predict_proba(X_age)\n",
    "\n",
    "plt.title('Age')\n",
    "plt.plot(X_age, y_proba_age[:, 1], \"g-\", linewidth=2, label=\"Survival\")\n",
    "plt.plot(X_age, y_proba_age[:, 0], \"b-\", linewidth=2, label=\"Dead\")\n",
    "plt.legend()\n",
    "plt.ylabel(\"probability\") \n",
    "plt.xlabel(\"age\") "
   ]
  }
 ],
 "metadata": {
  "kernelspec": {
   "display_name": "Python 3",
   "language": "python",
   "name": "python3"
  },
  "language_info": {
   "codemirror_mode": {
    "name": "ipython",
    "version": 3
   },
   "file_extension": ".py",
   "mimetype": "text/x-python",
   "name": "python",
   "nbconvert_exporter": "python",
   "pygments_lexer": "ipython3",
   "version": "3.9.5"
  }
 },
 "nbformat": 4,
 "nbformat_minor": 5
}
