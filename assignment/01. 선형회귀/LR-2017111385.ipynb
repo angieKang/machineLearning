{
 "cells": [
  {
   "cell_type": "markdown",
   "id": "9a72c0e5",
   "metadata": {},
   "source": [
    "# Programming Homework #1. 선형회귀\n",
    "csv 파일을 통해 50명의 키와 몸무게가 들어있는 파일을 준비하여 pandas를 사용해 해당 파일을 읽고 다음을 수행하세요.\n",
    "\n",
    "(1) head() 메소드를 사용하여 5명까지의 키와 몸무게를 출력하세요\n",
    "\n",
    "(2) matplotlib를 사용하여 데이터를 시각화해보세요\n",
    "\n",
    "(3) 사이킷런을 사용해 선형회귀를 실행하여 키가 160cm인 사람의 몸무게를 예측하여 출력하고 절편과 기울기를 각각 출력하세요\n",
    "\n",
    "(4) matplotlib를 사용하여 예측 결과를 시각화해보세요"
   ]
  },
  {
   "cell_type": "markdown",
   "id": "64dff9f9",
   "metadata": {},
   "source": [
    "## (1) head()메소드를 사용하여 5명까지의 키와 몸무게 출력"
   ]
  },
  {
   "cell_type": "code",
   "execution_count": 103,
   "id": "28c8e981",
   "metadata": {},
   "outputs": [
    {
     "data": {
      "text/html": [
       "<div>\n",
       "<style scoped>\n",
       "    .dataframe tbody tr th:only-of-type {\n",
       "        vertical-align: middle;\n",
       "    }\n",
       "\n",
       "    .dataframe tbody tr th {\n",
       "        vertical-align: top;\n",
       "    }\n",
       "\n",
       "    .dataframe thead th {\n",
       "        text-align: right;\n",
       "    }\n",
       "</style>\n",
       "<table border=\"1\" class=\"dataframe\">\n",
       "  <thead>\n",
       "    <tr style=\"text-align: right;\">\n",
       "      <th></th>\n",
       "      <th>height</th>\n",
       "      <th>weight</th>\n",
       "    </tr>\n",
       "  </thead>\n",
       "  <tbody>\n",
       "    <tr>\n",
       "      <th>0</th>\n",
       "      <td>178</td>\n",
       "      <td>81</td>\n",
       "    </tr>\n",
       "    <tr>\n",
       "      <th>1</th>\n",
       "      <td>165</td>\n",
       "      <td>62</td>\n",
       "    </tr>\n",
       "    <tr>\n",
       "      <th>2</th>\n",
       "      <td>140</td>\n",
       "      <td>40</td>\n",
       "    </tr>\n",
       "    <tr>\n",
       "      <th>3</th>\n",
       "      <td>186</td>\n",
       "      <td>81</td>\n",
       "    </tr>\n",
       "    <tr>\n",
       "      <th>4</th>\n",
       "      <td>189</td>\n",
       "      <td>84</td>\n",
       "    </tr>\n",
       "  </tbody>\n",
       "</table>\n",
       "</div>"
      ],
      "text/plain": [
       "   height  weight\n",
       "0     178      81\n",
       "1     165      62\n",
       "2     140      40\n",
       "3     186      81\n",
       "4     189      84"
      ]
     },
     "execution_count": 103,
     "metadata": {},
     "output_type": "execute_result"
    }
   ],
   "source": [
    "import pandas as pd\n",
    "hw = pd.read_csv(\"height_weight.csv\", encoding='utf-8')\n",
    "hw.head()"
   ]
  },
  {
   "cell_type": "markdown",
   "id": "cf2208f8",
   "metadata": {},
   "source": [
    "## (2) matplotlib를 사용하여 데이터를 시각화"
   ]
  },
  {
   "cell_type": "code",
   "execution_count": 104,
   "id": "22ef9286",
   "metadata": {},
   "outputs": [
    {
     "data": {
      "text/plain": [
       "(140.0, 190.0, 30.0, 100.0)"
      ]
     },
     "execution_count": 104,
     "metadata": {},
     "output_type": "execute_result"
    },
    {
     "data": {
      "image/png": "[encoded data removed]",
      "text/plain": [
       "<Figure size 432x288 with 1 Axes>"
      ]
     },
     "metadata": {
      "needs_background": "light"
     },
     "output_type": "display_data"
    }
   ],
   "source": [
    "import matplotlib.pyplot as plt\n",
    "\n",
    "h = hw[['height']].values\n",
    "w = hw['weight'].values\n",
    "\n",
    "plt.plot(h, w, \"b.\")                          \n",
    "plt.xlabel(\"height\", fontsize=18)               \n",
    "plt.ylabel(\"weight\", fontsize=18)     \n",
    "plt.axis([140, 190, 30, 100])   "
   ]
  },
  {
   "cell_type": "markdown",
   "id": "e7386ab9",
   "metadata": {},
   "source": [
    "## (3) 사이킷런을 사용해 선형회귀를 실행하여 키가 160cm인 사람의 몸무게를 예측하여 출력하고 절편과 기울기를 각각 출력"
   ]
  },
  {
   "cell_type": "code",
   "execution_count": 114,
   "id": "edcb8d69",
   "metadata": {},
   "outputs": [],
   "source": [
    "from sklearn.linear_model import LinearRegression\n",
    "\n",
    "lin_reg = LinearRegression()        #LinearRegression() 클래스 호출\n",
    "lin_reg.fit(h, w)                   #.fit(x, y): 데이터 이용해 모델 생성\n",
    "\n",
    "h_new = np.array([[160]])\n",
    "predict = lin_reg.predict(h_new)    #.predict(x): 모델 예측"
   ]
  },
  {
   "cell_type": "code",
   "execution_count": 109,
   "id": "e04f0744",
   "metadata": {},
   "outputs": [
    {
     "name": "stdout",
     "output_type": "stream",
     "text": [
      "키가 160인 사람의 몸무게 예측값은 [58.01977183]\n"
     ]
    }
   ],
   "source": [
    "print('키가 160인 사람의 몸무게 예측값은', predict)"
   ]
  },
  {
   "cell_type": "code",
   "execution_count": 115,
   "id": "723c6c62",
   "metadata": {},
   "outputs": [],
   "source": [
    "intercept = lin_reg.intercept_     #절편\n",
    "coef = lin_reg.coef_   #기울기"
   ]
  },
  {
   "cell_type": "code",
   "execution_count": 116,
   "id": "d5b20051",
   "metadata": {},
   "outputs": [
    {
     "name": "stdout",
     "output_type": "stream",
     "text": [
      "절편:  -95.61299843924118\n",
      "기울기:  [0.96020481]\n"
     ]
    }
   ],
   "source": [
    "print('절편: ', intercept)\n",
    "print('기울기: ', coef)"
   ]
  },
  {
   "cell_type": "markdown",
   "id": "847ca071",
   "metadata": {},
   "source": [
    "## (4) matplotlib를 사용하여 예측 결과를 시각화"
   ]
  },
  {
   "cell_type": "code",
   "execution_count": 117,
   "id": "7f266888",
   "metadata": {},
   "outputs": [
    {
     "data": {
      "text/plain": [
       "(140.0, 190.0, 30.0, 100.0)"
      ]
     },
     "execution_count": 117,
     "metadata": {},
     "output_type": "execute_result"
    },
    {
     "data": {
      "image/png": "[encoded data removed]",
      "text/plain": [
       "<Figure size 432x288 with 1 Axes>"
      ]
     },
     "metadata": {
      "needs_background": "light"
     },
     "output_type": "display_data"
    }
   ],
   "source": [
    "h_p = np.arange(140,190)      # x범위\n",
    "w_p = coef*h_p +intercept     # 기울기와 절편을 이용하여 y만들어냄\n",
    "\n",
    "plt.plot(h_p, w_p, \"r-\", label='Linear Regression')\n",
    "plt.plot(160, predict, \"g.\", label='predict 160')\n",
    "plt.plot(h, w, \"b.\", label = 'data')    \n",
    "plt.legend()\n",
    "plt.xlabel(\"height\", fontsize=18)               \n",
    "plt.ylabel(\"weight\", fontsize=18)     \n",
    "plt.axis([140, 190, 30, 100])    "
   ]
  },
  {
   "cell_type": "code",
   "execution_count": null,
   "id": "c3fe24f1",
   "metadata": {},
   "outputs": [],
   "source": []
  }
 ],
 "metadata": {
  "kernelspec": {
   "display_name": "Python 3",
   "language": "python",
   "name": "python3"
  },
  "language_info": {
   "codemirror_mode": {
    "name": "ipython",
    "version": 3
   },
   "file_extension": ".py",
   "mimetype": "text/x-python",
   "name": "python",
   "nbconvert_exporter": "python",
   "pygments_lexer": "ipython3",
   "version": "3.9.5"
  }
 },
 "nbformat": 4,
 "nbformat_minor": 5
}
