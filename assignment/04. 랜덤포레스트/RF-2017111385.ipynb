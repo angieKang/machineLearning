{
 "cells": [
  {
   "attachments": {},
   "cell_type": "markdown",
   "id": "f4aaf2a2",
   "metadata": {},
   "source": [
    "# Programming Homework #4: 랜덤포레스트\n",
    "Moon Dataset을 사용하여, Random Forest 에서 tree의 개수를 50, 100, 200 으로 변화하여 테스트 셋의 정확도를 출력하세요."
   ]
  },
  {
   "cell_type": "markdown",
   "id": "1854f9bf",
   "metadata": {},
   "source": [
    "### Dataset 불러오기"
   ]
  },
  {
   "cell_type": "code",
   "execution_count": 1,
   "id": "260c4ed7",
   "metadata": {},
   "outputs": [],
   "source": [
    "from sklearn.model_selection import train_test_split\n",
    "from sklearn.datasets import make_moons\n",
    "\n",
    "# 데이터 생성\n",
    "# make_moons(): 분산이 0.3인 가우시안 노이즈를 추가한 500개의 샘플 데이터 생성\n",
    "# random_state(): 데이터 shuffle 시 사용되는 초기 값, 반복 연산시에 동일한 결과를 생성할 수 있도록 함\n",
    "X, y = make_moons(n_samples=500, noise=0.30, random_state=42)     \n",
    "\n",
    "# Train, test 데이터 분류\n",
    "X_train, X_test, y_train, y_test = train_test_split(X, y, random_state=42)     "
   ]
  },
  {
   "cell_type": "markdown",
   "id": "40315c0e",
   "metadata": {},
   "source": [
    "### Random Forest #50 "
   ]
  },
  {
   "cell_type": "code",
   "execution_count": 2,
   "id": "7aba07e7",
   "metadata": {},
   "outputs": [
    {
     "data": {
      "text/plain": [
       "RandomForestClassifier(n_estimators=50, n_jobs=-1)"
      ]
     },
     "execution_count": 2,
     "metadata": {},
     "output_type": "execute_result"
    }
   ],
   "source": [
    "from sklearn.ensemble import RandomForestClassifier\n",
    "\n",
    "rnd_clf_50 = RandomForestClassifier(n_estimators=50, n_jobs=-1)   #n_jobs=-1 : 사이킷런이 훈련과 예측에 사용할 CPU코어 모두 사용\n",
    "rnd_clf_50.fit(X_train, y_train)"
   ]
  },
  {
   "cell_type": "code",
   "execution_count": 3,
   "id": "856791c7",
   "metadata": {},
   "outputs": [
    {
     "name": "stdout",
     "output_type": "stream",
     "text": [
      "0.904\n"
     ]
    }
   ],
   "source": [
    "from sklearn.metrics import accuracy_score\n",
    "\n",
    "y_pred_rf_50 = rnd_clf_50.predict(X_test)\n",
    "print(accuracy_score(y_test, y_pred_rf_50))"
   ]
  },
  {
   "cell_type": "markdown",
   "id": "96f62d5f",
   "metadata": {},
   "source": [
    "### Random Forest #100\n"
   ]
  },
  {
   "cell_type": "code",
   "execution_count": 4,
   "id": "2e2f4272",
   "metadata": {},
   "outputs": [
    {
     "data": {
      "text/plain": [
       "RandomForestClassifier(n_jobs=-1)"
      ]
     },
     "execution_count": 4,
     "metadata": {},
     "output_type": "execute_result"
    }
   ],
   "source": [
    "rnd_clf_100 = RandomForestClassifier(n_estimators=100, n_jobs=-1)   \n",
    "rnd_clf_100.fit(X_train, y_train)"
   ]
  },
  {
   "cell_type": "code",
   "execution_count": 5,
   "id": "36d91e1f",
   "metadata": {},
   "outputs": [
    {
     "name": "stdout",
     "output_type": "stream",
     "text": [
      "0.888\n"
     ]
    }
   ],
   "source": [
    "y_pred_rf_100 = rnd_clf_100.predict(X_test)\n",
    "print(accuracy_score(y_test, y_pred_rf_100))"
   ]
  },
  {
   "cell_type": "markdown",
   "id": "e41f9056",
   "metadata": {},
   "source": [
    "### Random Forest #200"
   ]
  },
  {
   "cell_type": "code",
   "execution_count": 6,
   "id": "e21412a0",
   "metadata": {},
   "outputs": [
    {
     "data": {
      "text/plain": [
       "RandomForestClassifier(n_estimators=200, n_jobs=-1)"
      ]
     },
     "execution_count": 6,
     "metadata": {},
     "output_type": "execute_result"
    }
   ],
   "source": [
    "rnd_clf_200 = RandomForestClassifier(n_estimators=200, n_jobs=-1)   \n",
    "rnd_clf_200.fit(X_train, y_train)"
   ]
  },
  {
   "cell_type": "code",
   "execution_count": 7,
   "id": "6031db83",
   "metadata": {},
   "outputs": [
    {
     "name": "stdout",
     "output_type": "stream",
     "text": [
      "0.888\n"
     ]
    }
   ],
   "source": [
    "y_pred_rf_200 = rnd_clf_200.predict(X_test)\n",
    "print(accuracy_score(y_test, y_pred_rf_200))"
   ]
  }
 ],
 "metadata": {
  "kernelspec": {
   "display_name": "Python 3",
   "language": "python",
   "name": "python3"
  },
  "language_info": {
   "codemirror_mode": {
    "name": "ipython",
    "version": 3
   },
   "file_extension": ".py",
   "mimetype": "text/x-python",
   "name": "python",
   "nbconvert_exporter": "python",
   "pygments_lexer": "ipython3",
   "version": "3.9.5"
  }
 },
 "nbformat": 4,
 "nbformat_minor": 5
}
