{
 "cells": [
  {
   "cell_type": "markdown",
   "id": "ec2b32aa",
   "metadata": {},
   "source": [
    "# Programming Homework #5: 앙상블 학습\n",
    "\n",
    "Moon Dataset을 사용하여, Logistic Regression, Random Forest tree # 50, #100, #200, SVM의 Ensemble Learning을 수행하되 \n",
    "\n",
    "직접투표 방식과 간접투표 방식을 각각 적용하여 테스트 셋의 정확도를 출력하세요."
   ]
  },
  {
   "cell_type": "markdown",
   "id": "0d34d02b",
   "metadata": {},
   "source": [
    "### Dataset 불러오기"
   ]
  },
  {
   "cell_type": "code",
   "execution_count": 8,
   "id": "4bac31af",
   "metadata": {},
   "outputs": [],
   "source": [
    "from sklearn.model_selection import train_test_split\n",
    "from sklearn.datasets import make_moons\n",
    "\n",
    "# 데이터 생성\n",
    "# make_moons(): 분산이 0.3인 가우시안 노이즈를 추가한 500개의 샘플 데이터 생성\n",
    "# random_state(): 데이터 shuffle 시 사용되는 초기 값, 반복 연산시에 동일한 결과를 생성할 수 있도록 함\n",
    "X, y = make_moons(n_samples=500, noise=0.30, random_state=42)     \n",
    "\n",
    "# Train, test 데이터 분류\n",
    "X_train, X_test, y_train, y_test = train_test_split(X, y, random_state=42)   "
   ]
  },
  {
   "cell_type": "markdown",
   "id": "95a9129a",
   "metadata": {},
   "source": [
    "### Ensemble Learning\n",
    "- Logistic Regression\n",
    "- Random Forest Tree #50\n",
    "- Random Forest Tree #100\n",
    "- Random Forest Tree #200\n",
    "- SVM"
   ]
  },
  {
   "cell_type": "markdown",
   "id": "ccb1c38f",
   "metadata": {},
   "source": [
    "### 직접투표 hard"
   ]
  },
  {
   "cell_type": "code",
   "execution_count": 9,
   "id": "06d91403",
   "metadata": {},
   "outputs": [
    {
     "data": {
      "text/plain": [
       "VotingClassifier(estimators=[('lr', LogisticRegression(random_state=42)),\n",
       "                             ('rf50',\n",
       "                              RandomForestClassifier(n_estimators=50,\n",
       "                                                     random_state=42)),\n",
       "                             ('rf100', RandomForestClassifier(random_state=42)),\n",
       "                             ('rf200',\n",
       "                              RandomForestClassifier(n_estimators=200,\n",
       "                                                     random_state=42)),\n",
       "                             ('svc', SVC(random_state=42))])"
      ]
     },
     "execution_count": 9,
     "metadata": {},
     "output_type": "execute_result"
    }
   ],
   "source": [
    "from sklearn.ensemble import RandomForestClassifier\n",
    "from sklearn.ensemble import VotingClassifier\n",
    "from sklearn.linear_model import LogisticRegression\n",
    "from sklearn.svm import SVC\n",
    "\n",
    "log_clf = LogisticRegression(solver=\"lbfgs\", random_state=42)\n",
    "rnd50_clf = RandomForestClassifier(n_estimators=50, random_state=42)\n",
    "rnd100_clf = RandomForestClassifier(n_estimators=100, random_state=42)\n",
    "rnd200_clf = RandomForestClassifier(n_estimators=200, random_state=42)\n",
    "svm_clf = SVC(gamma=\"scale\", random_state=42)\n",
    "\n",
    "hard_voting_clf = VotingClassifier(\n",
    "    estimators=[('lr', log_clf),('rf50', rnd50_clf),('rf100', rnd100_clf),('rf200', rnd200_clf),('svc', svm_clf)],\n",
    "    voting='hard'\n",
    ")\n",
    "hard_voting_clf.fit(X_train, y_train)"
   ]
  },
  {
   "cell_type": "code",
   "execution_count": 10,
   "id": "5d62c75d",
   "metadata": {},
   "outputs": [
    {
     "name": "stdout",
     "output_type": "stream",
     "text": [
      "LogisticRegression 0.864\n",
      "RandomForestClassifier 0.896\n",
      "RandomForestClassifier 0.896\n",
      "RandomForestClassifier 0.896\n",
      "SVC 0.896\n",
      "VotingClassifier 0.896\n"
     ]
    }
   ],
   "source": [
    "from sklearn.metrics import accuracy_score\n",
    "\n",
    "for clf in (log_clf, rnd50_clf, rnd100_clf, rnd200_clf, svm_clf, hard_voting_clf):\n",
    "    clf.fit(X_train, y_train)\n",
    "    y_pred = clf.predict(X_test)\n",
    "    print(clf.__class__.__name__, accuracy_score(y_test, y_pred))"
   ]
  },
  {
   "cell_type": "markdown",
   "id": "759dea08",
   "metadata": {},
   "source": [
    "### 간접투표 soft"
   ]
  },
  {
   "cell_type": "code",
   "execution_count": 11,
   "id": "96f7cedf",
   "metadata": {},
   "outputs": [
    {
     "data": {
      "text/plain": [
       "VotingClassifier(estimators=[('lr', LogisticRegression(random_state=42)),\n",
       "                             ('rf50',\n",
       "                              RandomForestClassifier(n_estimators=50,\n",
       "                                                     random_state=42)),\n",
       "                             ('rf100', RandomForestClassifier(random_state=42)),\n",
       "                             ('rf200',\n",
       "                              RandomForestClassifier(n_estimators=200,\n",
       "                                                     random_state=42)),\n",
       "                             ('svc', SVC(probability=True, random_state=42))],\n",
       "                 voting='soft')"
      ]
     },
     "execution_count": 11,
     "metadata": {},
     "output_type": "execute_result"
    }
   ],
   "source": [
    "log_clf = LogisticRegression(solver=\"lbfgs\", random_state=42)\n",
    "rnd50_clf = RandomForestClassifier(n_estimators=50, random_state=42)\n",
    "rnd100_clf = RandomForestClassifier(n_estimators=100, random_state=42)\n",
    "rnd200_clf = RandomForestClassifier(n_estimators=200, random_state=42)\n",
    "svm_clf = SVC(gamma=\"scale\", random_state=42, probability=True)       #SVC의 기본값에서는 클래스 확률을 제공X \n",
    "\n",
    "soft_voting_clf = VotingClassifier(\n",
    "    estimators=[('lr', log_clf),('rf50', rnd50_clf),('rf100', rnd100_clf),('rf200', rnd200_clf),('svc', svm_clf)],\n",
    "    voting='soft'\n",
    ")\n",
    "soft_voting_clf.fit(X_train, y_train)"
   ]
  },
  {
   "cell_type": "code",
   "execution_count": 12,
   "id": "d97d4a26",
   "metadata": {},
   "outputs": [
    {
     "name": "stdout",
     "output_type": "stream",
     "text": [
      "LogisticRegression 0.864\n",
      "RandomForestClassifier 0.896\n",
      "RandomForestClassifier 0.896\n",
      "RandomForestClassifier 0.896\n",
      "SVC 0.896\n",
      "VotingClassifier 0.92\n"
     ]
    }
   ],
   "source": [
    "for clf in (log_clf, rnd50_clf, rnd100_clf, rnd200_clf, svm_clf, soft_voting_clf):\n",
    "    clf.fit(X_train, y_train)\n",
    "    y_pred = clf.predict(X_test)\n",
    "    print(clf.__class__.__name__, accuracy_score(y_test, y_pred))"
   ]
  },
  {
   "cell_type": "code",
   "execution_count": null,
   "id": "7c09576a",
   "metadata": {},
   "outputs": [],
   "source": []
  }
 ],
 "metadata": {
  "kernelspec": {
   "display_name": "Python 3",
   "language": "python",
   "name": "python3"
  },
  "language_info": {
   "codemirror_mode": {
    "name": "ipython",
    "version": 3
   },
   "file_extension": ".py",
   "mimetype": "text/x-python",
   "name": "python",
   "nbconvert_exporter": "python",
   "pygments_lexer": "ipython3",
   "version": "3.9.5"
  }
 },
 "nbformat": 4,
 "nbformat_minor": 5
}
