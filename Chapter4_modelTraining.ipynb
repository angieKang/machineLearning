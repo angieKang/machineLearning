{
 "cells": [
  {
   "cell_type": "markdown",
   "id": "9173f79b",
   "metadata": {},
   "source": [
    "# 4.1 선형 회귀 - 개요"
   ]
  },
  {
   "cell_type": "markdown",
   "id": "5eaf9a40",
   "metadata": {},
   "source": [
    "### Linear Regression\n",
    "- 입력 특성의 가중치 합($\\theta$)과 편향(bias)라는 상수를 더해 예측을 만듦\n",
    "- Linear Regression Training: 모델이 훈련 세트에 가장 잘 맞도록 <U>모델 파라미터를 설정</U>하는 것으로 RMSE, MAE와 같은 성능지표를 사용하여 모델이 훈련데이터에 얼마나 잘 들어맞는지 측정해야 함\n",
    "\n",
    "\n",
    "- <u>$y$를 잘 예측할 수 있는 $\\theta$를 찾는 것이 문제</u>\n",
    "\n",
    "**선형 회귀 모델의 예측**\n",
    "\n",
    "$ \\hat y  = \\theta_0 + \\theta_1x_1 + \\theta_2x_2 + ... + \\theta_nx_n $\n",
    "- $\\hat y$: 예측값\n",
    "- $\\theta_1$: 첫번째 모델 파라메터\n",
    "- $x_n$: n번째 특성값"
   ]
  },
  {
   "cell_type": "markdown",
   "id": "f2a3e667",
   "metadata": {},
   "source": [
    "**RMSE**\n",
    "\n",
    "$ cost(\\theta) = {1\\over m }\\sum_{i=1}^{m} {(h_{\\theta}(x^{(i)}) - y^{(i)})}^2 $\n",
    "\n",
    "- cost 값이 낮아질 때의 $\\theta$ 찾기"
   ]
  },
  {
   "cell_type": "markdown",
   "id": "efa3ad09",
   "metadata": {},
   "source": [
    "# 4.1 선형 회귀- 해석적 방법\n",
    "## 4.1.1 정규방정식"
   ]
  },
  {
   "cell_type": "markdown",
   "id": "fd8a38b6",
   "metadata": {},
   "source": [
    "정규방정식(normal equation): 비용 함수를 최소화하는 $\\theta$값을 찾기 위한 해석적인 방법. 바로 결과를 얻을 수 있는 수학 공식"
   ]
  },
  {
   "cell_type": "markdown",
   "id": "6b2f43ad",
   "metadata": {},
   "source": [
    " $\\hat\\theta = (X^TX)^{-1}X^Ty$\n",
    " - $\\hat\\theta$: 비용 함수를 최소화하는 θ값.\n",
    " - $X^T$: transpose X\n",
    " - $(X^TX)^{-1}$: inverse\n",
    " - $y$: $y^{(1)}$부터 $y^{(m)}$까지 포함하는 타깃 벡터"
   ]
  },
  {
   "cell_type": "markdown",
   "id": "94564a84",
   "metadata": {},
   "source": [
    "### 난수 값으로 선형 데이터셋 생성하기"
   ]
  },
  {
   "cell_type": "code",
   "execution_count": 1,
   "id": "bcdbbb8d",
   "metadata": {},
   "outputs": [],
   "source": [
    "import numpy as np\n",
    "X = 2 * np.random.rand(100,1)          # np.random.rand(m, n): 0~1의 균일분포 난수를 생성한 뒤 배열(m, n)으로 저장/ 100차원\n",
    "y = 4 + 3*X + np.random.randn(100,1)   # np.random.rand(m, n): 평균 0, 표준편차 1의 가우시안분포난수를 생성한 뒤 배열(m, n)으로 저장"
   ]
  },
  {
   "cell_type": "code",
   "execution_count": 2,
   "id": "38eebbae",
   "metadata": {
    "scrolled": true
   },
   "outputs": [
    {
     "data": {
      "text/plain": [
       "(0.0, 2.0, 0.0, 15.0)"
      ]
     },
     "execution_count": 2,
     "metadata": {},
     "output_type": "execute_result"
    },
    {
     "data": {
      "image/png": "[encoded data removed]",
      "text/plain": [
       "<Figure size 432x288 with 1 Axes>"
      ]
     },
     "metadata": {
      "needs_background": "light"
     },
     "output_type": "display_data"
    }
   ],
   "source": [
    "import matplotlib.pyplot as plt\n",
    "\n",
    "plt.plot(X, y, \"b.\")                           # b:blue , .:dot\n",
    "plt.xlabel(\"$x_1$\", fontsize=18)               # $:기울임꼴\n",
    "plt.ylabel(\"$y$\", rotation=0, fontsize=18)     \n",
    "plt.axis([0, 2, 0, 15])                        # plt.axis([x_min, x_max, y_min, y_max]): 그래프 출력 범위 지정"
   ]
  },
  {
   "cell_type": "markdown",
   "id": "1b74013d",
   "metadata": {},
   "source": [
    "⬆ 무작위로 생성한 선형 데이터셋"
   ]
  },
  {
   "cell_type": "markdown",
   "id": "bbe23333",
   "metadata": {},
   "source": [
    "### 정규 방정식 확인하기\n",
    "$\\hat\\theta = (X^TX)^{-1}X^Ty$\n",
    " - $\\hat\\theta$: 비용 함수를 최소화하는 θ값.\n",
    " - $X^T$: transpose X\n",
    " - $(X^TX)^{-1}$: inverse\n",
    " - $y$: $y^{(1)}$부터 $y^{(m)}$까지 포함하는 타깃 벡터"
   ]
  },
  {
   "cell_type": "code",
   "execution_count": 3,
   "id": "1015b43f",
   "metadata": {},
   "outputs": [],
   "source": [
    "## 정규방정식을 사용해 $\\hat\\theta$ 계산\n",
    "#np.c_[a,b]: 1차원 배열 a, b를 세로로 붙여서 2차원 배열 생성하기. 모든 샘플에 x0=1추가\n",
    "X_b = np.c_[np.ones((100,1)), X]\n",
    "\n",
    "#np.linalg: numpy 선형대수 모듈\n",
    "theta_best = np.linalg.inv(X_b.T.dot(X_b)).dot(X_b.T).dot(y)     #np.linalg.inv(x): 역행렬 계산,  np.dot(x): 행렬 간 내적곱"
   ]
  },
  {
   "cell_type": "code",
   "execution_count": 4,
   "id": "52cd0077",
   "metadata": {},
   "outputs": [
    {
     "data": {
      "text/plain": [
       "array([[3.90638667],\n",
       "       [2.95471689]])"
      ]
     },
     "execution_count": 4,
     "metadata": {},
     "output_type": "execute_result"
    }
   ],
   "source": [
    "theta_best"
   ]
  },
  {
   "cell_type": "markdown",
   "id": "ffeea12c",
   "metadata": {},
   "source": [
    "- 기댓값: [[4],[3]]\n",
    "- 노이즈 때문에 함수의 파라미터를 정확하게 재현하지 못하였음"
   ]
  },
  {
   "cell_type": "markdown",
   "id": "31dfea9d",
   "metadata": {},
   "source": [
    "### 선형회귀 예측 결과 구현하기 \n",
    "$ \\hat y = X\\hat\\theta$"
   ]
  },
  {
   "cell_type": "code",
   "execution_count": 9,
   "id": "d9c95572",
   "metadata": {},
   "outputs": [
    {
     "data": {
      "text/plain": [
       "array([[3.90638667],\n",
       "       [9.81582046]])"
      ]
     },
     "execution_count": 9,
     "metadata": {},
     "output_type": "execute_result"
    }
   ],
   "source": [
    "## $\\hat\\theta$을 사용한 예측\n",
    "X_new = np.array([[0],[2]])\n",
    "\n",
    "#np.c_[a,b]: 1차원 배열 a, b를 세로로 붙여서 2차원 배열 생성하기. 모든 샘플에 x0=1추가\n",
    "X_new_b = np.c_[np.ones((2,1)), X_new]\n",
    "\n",
    "y_predict = X_new_b.dot(theta_best)\n",
    "y_predict"
   ]
  },
  {
   "cell_type": "code",
   "execution_count": 10,
   "id": "e0c818b1",
   "metadata": {},
   "outputs": [
    {
     "data": {
      "image/png": "[encoded data removed]",
      "text/plain": [
       "<Figure size 432x288 with 1 Axes>"
      ]
     },
     "metadata": {
      "needs_background": "light"
     },
     "output_type": "display_data"
    }
   ],
   "source": [
    "plt.plot(X_new, y_predict, \"r-\")     # r:red , -:line     \n",
    "plt.plot(X, y, \"b.\")                 # b:blue , .:dot      \n",
    "plt.axis([0, 2, 0, 15])              # plt.axis([x_min, x_max, y_min, y_max]): 그래프 출력 범위 지정\n",
    "plt.show()"
   ]
  },
  {
   "cell_type": "markdown",
   "id": "11fe0318",
   "metadata": {},
   "source": [
    "### 사이킷런으로 선형회귀 예측 결과 구현하기"
   ]
  },
  {
   "cell_type": "code",
   "execution_count": 11,
   "id": "74628c59",
   "metadata": {},
   "outputs": [
    {
     "data": {
      "text/plain": [
       "(array([3.90638667]), array([[2.95471689]]))"
      ]
     },
     "execution_count": 11,
     "metadata": {},
     "output_type": "execute_result"
    }
   ],
   "source": [
    "from sklearn.linear_model import LinearRegression\n",
    "\n",
    "lin_reg = LinearRegression()        #LinearRegression() 클래스 호출\n",
    "lin_reg.fit(X, y)                   #.fit(x, y): 데이터 이용해 모델 생성\n",
    "lin_reg.intercept_, lin_reg.coef_   #.intercept_: 실수값 1개,   .coef: numpy배열"
   ]
  },
  {
   "cell_type": "code",
   "execution_count": 12,
   "id": "31d40402",
   "metadata": {},
   "outputs": [
    {
     "data": {
      "text/plain": [
       "array([[3.90638667],\n",
       "       [9.81582046]])"
      ]
     },
     "execution_count": 12,
     "metadata": {},
     "output_type": "execute_result"
    }
   ],
   "source": [
    "X_new = np.array([[0], [2]])\n",
    "\n",
    "lin_reg.predict(X_new)    #.predict(x): 모델 예측"
   ]
  },
  {
   "cell_type": "markdown",
   "id": "f6a1c9ee",
   "metadata": {},
   "source": [
    "# 4.2 선형회귀 - 경사 하강법\n",
    "\n",
    "$ cost(\\theta) = {1\\over m }\\sum_{i=1}^{m} {(h_{\\theta}(x^{(i)}) - y^{(i)})}^2 $\n",
    "- 경사 하강법(GD:Gradient Descent Method)\n",
    " - 비용함수(cost function)을 최소화하기 위해 반복해서 파라메터를 조정하는 최적화 방법\n",
    " - 파라메터 벡터 $theta$에 대해 비용함수의 현재 기울기(gradient)를 계산하고, 기울기가 감소하는 방향으로 진행\n",
    " - 무작위 초기화(random initailization): $\\theta$를 임의의 값으로 시작해서 한번에 조금씩 비용 함수가 감소되는 방향으로 진행하여 알고리즘이 최소값에 수렴할 때까지 점진적으로 향상시킴 (=> 학습 스텝 크기는 비용함수의 기울기에 비례, 파라미터가 최솟값에 가까워질수록 스텝 크기가 점진적으로 줄어듦)\n",
    " - 학습률(learning rate) $\\alpha$: 한번 학습하는 스텝의 크기. 학습률이 너무 작으면 알고리즘이 수렴하기 위해 반복을 많이 진행해야하므로 시간이 오래 걸림\n",
    "-----\n",
    "- 배치 경사 하강법(BGD: Batch Gradient Descent Method)\n",
    " - 전체 학습 데이터를 하나의 배치로 묶어 학습시키는 방법\n",
    " - 전체 데이터에 대한 모델의 오차의 평균을 구한 다음, 이를 이용하여 미분을 통해 경사를 산출, 최적화를 진행함\n",
    " - 전체 데이터를 통해 학습시키기 때문에 가장 업데이트 횟수가 적음\n",
    " - 전체 데이터를 모두 한 번에 처리하기 때문에 메모리가 가장 많이 필요\n",
    " - 항상 같은 데이터에 대해 경사를 구하기 때문에 수렴이 안정적"
   ]
  },
  {
   "cell_type": "markdown",
   "id": "fc189244",
   "metadata": {},
   "source": [
    "## 4.2.1 배치 경사 하강법\n",
    "### 배치 경사 하강법을 사용한 선형회귀 예측 결과 구현하기"
   ]
  },
  {
   "cell_type": "markdown",
   "id": "808c9501",
   "metadata": {},
   "source": [
    "비용 함수의 그레이디언트 벡터\n",
    "\n",
    "$ {{\\partial}\\over{\\partial \\theta_j}}{MSE}({\\theta}) = {2 \\over m}X^T(X{\\theta} - y)$"
   ]
  },
  {
   "cell_type": "markdown",
   "id": "7cb130dc",
   "metadata": {},
   "source": [
    "경사 하강법의 스텝\n",
    "\n",
    "$ \\theta^{(next step)} = \\theta - \\eta {{\\partial}\\over{\\partial \\theta}}MSE({\\theta})$\n",
    "- $\\eta$ : 학습률"
   ]
  },
  {
   "cell_type": "code",
   "execution_count": 13,
   "id": "25ea8ef0",
   "metadata": {},
   "outputs": [
    {
     "data": {
      "text/plain": [
       "array([[3.90638667],\n",
       "       [2.95471689]])"
      ]
     },
     "execution_count": 13,
     "metadata": {},
     "output_type": "execute_result"
    }
   ],
   "source": [
    "eta = 0.1              #학습률\n",
    "n_iterations = 1000    #반복 횟수\n",
    "m = 100                #샘플 수\n",
    "\n",
    "theta = np.random.randn(2,1)    # 랜덤 초기화\n",
    "\n",
    "for iteration in range(n_iterations):\n",
    "    gradients = 2/m * X_b.T.dot(X_b.dot(theta) - y)\n",
    "    theta = theta - eta*gradients\n",
    "    \n",
    "theta"
   ]
  },
  {
   "cell_type": "markdown",
   "id": "17559bbb",
   "metadata": {},
   "source": [
    "# 4.3 다항 회귀\n",
    "- 비선형 데이터를 학습하기 위해 선형 모델을 사용\n",
    "- 각 특성의 거듭제곱을 새로운 특성으로 추가하고, 이 확장된 특성을 포함한 데이터셋에 선형모델을 훈련시킴"
   ]
  },
  {
   "cell_type": "markdown",
   "id": "319c546b",
   "metadata": {},
   "source": [
    "### 2차 방정식으로 비선형 데이터 생성하기\n",
    "\n",
    "2차 방정식의 형식: $ y = ax^2 +bx + c $"
   ]
  },
  {
   "cell_type": "code",
   "execution_count": 14,
   "id": "42d6370d",
   "metadata": {},
   "outputs": [],
   "source": [
    "m = 100\n",
    "X = 6*np.random.rand(m, 1) - 3\n",
    "y = 0.5 * X**2 + X + 2 + np.random.randn(m, 1)"
   ]
  },
  {
   "cell_type": "code",
   "execution_count": 15,
   "id": "5d93ae14",
   "metadata": {},
   "outputs": [
    {
     "data": {
      "image/png": "[encoded data removed]",
      "text/plain": [
       "<Figure size 432x288 with 1 Axes>"
      ]
     },
     "metadata": {
      "needs_background": "light"
     },
     "output_type": "display_data"
    }
   ],
   "source": [
    "plt.plot(X, y, \"b.\")\n",
    "plt.xlabel(\"$x_1$\", fontsize=18)\n",
    "plt.ylabel(\"$y$\", rotation=0, fontsize=18)\n",
    "plt.axis([-3, 3, 0, 10])\n",
    "plt.show()"
   ]
  },
  {
   "cell_type": "markdown",
   "id": "d1e8061a",
   "metadata": {},
   "source": [
    "### 확장된 훈련 데이터에 선형회귀 적용하기"
   ]
  },
  {
   "cell_type": "code",
   "execution_count": 16,
   "id": "b40d9db3",
   "metadata": {},
   "outputs": [],
   "source": [
    "from sklearn.preprocessing import PolynomialFeatures\n",
    "\n",
    "#PolynominalFeatures(): 훈련 세트(X)에 있는 각 특성을 제곱(degree=2)하여 새로운 훈련 데이터셋(X_poly)으로 만듦\n",
    "#include_bias = True 라면 편향을 위한 특성(X_0)인 1이 추가됨\n",
    "poly_features = PolynomialFeatures(degree=2, include_bias=False)\n",
    "X_poly = poly_features.fit_transform(X)"
   ]
  },
  {
   "cell_type": "markdown",
   "id": "d28d950e",
   "metadata": {},
   "source": [
    "X_poly는 이제 원래 특성 X와 이 특성의 제곱을 포함함.<br>\n",
    "⬇ 확장된 훈련 데이터에 LinearRegression 적용"
   ]
  },
  {
   "cell_type": "code",
   "execution_count": 17,
   "id": "8c44d2ec",
   "metadata": {},
   "outputs": [
    {
     "data": {
      "text/plain": [
       "(array([2.00292769]), array([[0.96086447, 0.4938841 ]]))"
      ]
     },
     "execution_count": 17,
     "metadata": {},
     "output_type": "execute_result"
    }
   ],
   "source": [
    "lin_reg = LinearRegression()           #LinearRegression() 클래스 호출\n",
    "lin_reg.fit(X_poly, y)                 #.fit(x, y): 데이터 이용해 모델 생성\n",
    "lin_reg.intercept_, lin_reg.coef_      #.intercept_: 실수값 1개,     .coef_:numpy 배열"
   ]
  },
  {
   "cell_type": "markdown",
   "id": "c71b4338",
   "metadata": {},
   "source": [
    "- 실제 함수: $ y = 0.5x_1^2 + 1.0x_1 + 2.0 + \\alpha $\n",
    "- 예측 모델: $ y = 0.49x_1^2 + 0.96x_1 + 2.00 $"
   ]
  },
  {
   "cell_type": "code",
   "execution_count": 18,
   "id": "faeb211b",
   "metadata": {},
   "outputs": [
    {
     "data": {
      "image/png": "[encoded data removed]",
      "text/plain": [
       "<Figure size 432x288 with 1 Axes>"
      ]
     },
     "metadata": {
      "needs_background": "light"
     },
     "output_type": "display_data"
    }
   ],
   "source": [
    "X_new = np.linspace(-3, 3, 100).reshape(100, 1)\n",
    "X_new_poly = poly_features.transform(X_new)\n",
    "y_new = lin_reg.predict(X_new_poly)\n",
    "plt.plot(X, y, \"b.\")\n",
    "plt.plot(X_new, y_new, \"r--\", linewidth=2)\n",
    "plt.xlabel(\"$x_1$\", fontsize=18)\n",
    "plt.ylabel(\"$y$\",rotation = 0, fontsize=18)\n",
    "plt.axis([-3, 3, 0, 10])\n",
    "plt.show()"
   ]
  },
  {
   "cell_type": "markdown",
   "id": "49af2f9a",
   "metadata": {},
   "source": [
    "# 4.4 학습 곡선"
   ]
  },
  {
   "cell_type": "markdown",
   "id": "e13b6533",
   "metadata": {},
   "source": [
    "### 모델의 일반화 성능 추정(1): 단순 선형 회귀 모델(직선)의 학습 곡선 그리기"
   ]
  },
  {
   "cell_type": "code",
   "execution_count": 38,
   "id": "9081e037",
   "metadata": {},
   "outputs": [
    {
     "data": {
      "image/png": "[encoded data removed]",
      "text/plain": [
       "<Figure size 432x288 with 1 Axes>"
      ]
     },
     "metadata": {
      "needs_background": "light"
     },
     "output_type": "display_data"
    }
   ],
   "source": [
    "from sklearn.metrics import mean_squared_error\n",
    "from sklearn.model_selection import train_test_split\n",
    "\n",
    "def plot_learning_curves(model, X, y):\n",
    "    # validation set 20%\n",
    "    X_train, X_val, y_train, y_val = train_test_split(X, y, test_size=0.2, random_state=10)     #데이터셋 분류\n",
    "    train_errors, val_errors = [], []\n",
    "    for m in range(1, len(X_train)):\n",
    "        model.fit(X_train[:m], y_train[:m])\n",
    "        y_train_predict = model.predict(X_train[:m])\n",
    "        y_val_predict = model.predict(X_val)\n",
    "        train_errors.append(mean_squared_error(y_train[:m], y_train_predict))\n",
    "        val_errors.append(mean_squared_error(y_val, y_val_predict))\n",
    "    \n",
    "    plt.plot(np.sqrt(train_errors), \"r-\", linewidth=2, label=\"train\")\n",
    "    plt.plot(np.sqrt(val_errors), \"b-\", linewidth=3, label=\"val\")\n",
    "    plt.legend(loc=\"upper right\", fontsize=14)\n",
    "    plt.xlabel(\"Training set size\", fontsize=14)\n",
    "    plt.ylabel(\"RMSE\", fontsize=14)\n",
    "    \n",
    "lin_reg = LinearRegression()\n",
    "plot_learning_curves(lin_reg, X, y)\n",
    "plt.axis([0, 80, 0, 3])\n",
    "plt.show()"
   ]
  },
  {
   "cell_type": "markdown",
   "id": "bebb5e34",
   "metadata": {},
   "source": [
    "과소적합(underfitting) 발생: 두 곡선이 수평한 구간을 만들고 꽤 높은 오차에서 매우 가까이 근접해 있음"
   ]
  },
  {
   "cell_type": "markdown",
   "id": "bf2e9222",
   "metadata": {},
   "source": [
    "훈련 데이터의 성능\n",
    "- 그래프가 0에서 시작하므로 훈련 세트에 하나 혹은 두 개의 샘플이 있을 땐 모델이 완벽하게 작동\n",
    "- 하지만 훈련 세트에 샘플이 추가됨에 따라 잡음도 있고 비선형이기 때문에 모델이 훈련 데이터를 완벽이 학습하는 것이 불가능\n",
    "- 그래서 곡선이 어느 정도 평편해질 때까지 오차가 계속 상승"
   ]
  },
  {
   "cell_type": "code",
   "execution_count": 48,
   "id": "a1ddba7d",
   "metadata": {},
   "outputs": [
    {
     "data": {
      "image/png": "[encoded data removed]",
      "text/plain": [
       "<Figure size 432x288 with 1 Axes>"
      ]
     },
     "metadata": {
      "needs_background": "light"
     },
     "output_type": "display_data"
    }
   ],
   "source": [
    "from sklearn.pipeline import Pipeline\n",
    "\n",
    "#PolynominalFeatures(): 훈련세트(X)에 있는 각 특성을 10제곱(degree=10)하여 새로운 훈련 데이터셋(X_poly)으로 만듦\n",
    "polynomial_regression = Pipeline([\n",
    "    (\"poly_features\", PolynomialFeatures(degree=10, include_bias=True)),\n",
    "    (\"lin_reg\", LinearRegression())\n",
    "])\n",
    "\n",
    "plot_learning_curves(polynomial_regression, X, y)\n",
    "plt.axis([0, 80, 0, 3])\n",
    "plt.show()"
   ]
  },
  {
   "cell_type": "markdown",
   "id": "84caa456",
   "metadata": {},
   "source": [
    "<del>오..책대로라면 overfitting 발생이여야 하는데 아직도 리를빗 underfitting인걸..?</del>"
   ]
  },
  {
   "cell_type": "code",
   "execution_count": 49,
   "id": "9f027d3e",
   "metadata": {},
   "outputs": [
    {
     "data": {
      "image/png": "[encoded data removed]",
      "text/plain": [
       "<Figure size 432x288 with 1 Axes>"
      ]
     },
     "metadata": {
      "needs_background": "light"
     },
     "output_type": "display_data"
    }
   ],
   "source": [
    "from sklearn.pipeline import Pipeline\n",
    "\n",
    "#PolynominalFeatures(): 훈련세트(X)에 있는 각 특성을 15제곱(degree=15)하여 새로운 훈련 데이터셋(X_poly)으로 만듦\n",
    "polynomial_regression = Pipeline([\n",
    "    (\"poly_features\", PolynomialFeatures(degree=15, include_bias=True)),\n",
    "    (\"lin_reg\", LinearRegression())\n",
    "])\n",
    "\n",
    "plot_learning_curves(polynomial_regression, X, y)\n",
    "plt.axis([0, 80, 0, 3])\n",
    "plt.show()"
   ]
  },
  {
   "cell_type": "markdown",
   "id": "4c3942bc",
   "metadata": {},
   "source": [
    "<del>오...15차항은 좀 낫네..</del>"
   ]
  },
  {
   "cell_type": "markdown",
   "id": "3868ac81",
   "metadata": {},
   "source": [
    "과대적합(Overfitting) 발생\n",
    "- 훈련 데이터의 오차가 선형 회귀 모델보다 훨씬 낮음\n",
    "- 두 곡선 사이에 공간이 있음/ 훈련 데이터에서의 모델 성능이 검증 데이터에서보다 훨씬 낫다는 뜻(과대적합 모델의 특징). 그러나 더 큰 훈련 세트를 사용하면 두 곡선이 점점 가까워 짐."
   ]
  },
  {
   "cell_type": "markdown",
   "id": "0c3d267c",
   "metadata": {},
   "source": [
    "# 4.5 규제가 있는 선형 모델\n",
    "## 4.5.1 릿지 회귀"
   ]
  },
  {
   "cell_type": "markdown",
   "id": "6f480155",
   "metadata": {},
   "source": [
    "릿지 회귀(티호노프 규제, Tihonov constraint)\n",
    "- 학습 알고리즘을 데이터에 맞추는 것 뿐 아니라 <u>모델의 가중치가 가능한 작게 유지되도록 노력</u>\n",
    " - 규제항은 훈련하는 동안에만 비용 함수에 추가됨\n",
    " - 모델이 훈련이 끝나면 모델의 성능을 규제가 없는 성능 지표료 평가함\n",
    "- 입력 특성의 스케일에 민감하기 때문에 수행하기 전에 데이터 스케일을 맞추는 것이 중요함"
   ]
  },
  {
   "cell_type": "markdown",
   "id": "f17ecf80",
   "metadata": {},
   "source": [
    "**릿지 회귀의 비용 함수**\n",
    "\n",
    "$ J(\\theta) = MSE(\\theta) + \\alpha{1 \\over 2}{\\sum_{i=1}^{n}\\theta_i^2} $ \n",
    "- $\\alpha$: 모델을 많이 규제할지 조절\n",
    "- 편향 $\\theta_0$: 규제되지 않음($i=1$부터 시작함)"
   ]
  },
  {
   "cell_type": "markdown",
   "id": "9f00facf",
   "metadata": {},
   "source": [
    "### 릿지 회귀: 규제(L2 norm)가 추가된 선형 회귀"
   ]
  },
  {
   "cell_type": "code",
   "execution_count": 51,
   "id": "66bd5b1e",
   "metadata": {},
   "outputs": [
    {
     "data": {
      "text/plain": [
       "array([[5.01577387]])"
      ]
     },
     "execution_count": 51,
     "metadata": {},
     "output_type": "execute_result"
    }
   ],
   "source": [
    "from sklearn.linear_model import Ridge\n",
    "ridge_reg = Ridge(alpha=1, solver=\"cholesky\")     #solver=\"cholesky\": 숄레스키 행렬 분해\n",
    "ridge_reg.fit(X, y)\n",
    "ridge_reg.predict([[1.5]])                        #기댓값 = 1.5"
   ]
  },
  {
   "cell_type": "markdown",
   "id": "c2273fa3",
   "metadata": {},
   "source": [
    "## 4.5.2 라쏘 회귀"
   ]
  },
  {
   "cell_type": "markdown",
   "id": "a36975b8",
   "metadata": {},
   "source": [
    "라쏘 회귀(Least Absolute Shrinkrage and Selection Operator)\n",
    "- 릿지 회귀처럼 비용 함수에 규제항을 더하지만 가중치 벡터의 L1 norm을 사용함\n",
    "- 덜 중요한 특성의 가중치를 제거하려고 함\n",
    "- 자동으로 특성 선택을 하고 최소 모델(Sparse model)을 만듦\n",
    "- 0이 아닌 특성의 가중치가 적음"
   ]
  },
  {
   "cell_type": "markdown",
   "id": "51e2dda4",
   "metadata": {},
   "source": [
    "**라쏘 회귀의 비용함수**\n",
    "\n",
    "$ J(\\theta) = MSE(\\theta) + \\alpha{\\sum_{i=1}^{n}\\begin{vmatrix}{\\theta_i}\\end{vmatrix}} $ \n",
    "- $\\alpha$: 모델을 많이 규제할지 조절\n",
    "- 편향 $\\theta_0$: 규제되지 않음($i=1$부터 시작함)"
   ]
  },
  {
   "cell_type": "markdown",
   "id": "0fc24d14",
   "metadata": {},
   "source": [
    "### 라쏘 회귀: 규제(L1 norm)가 추가된 선형 회귀"
   ]
  },
  {
   "cell_type": "code",
   "execution_count": 53,
   "id": "628269de",
   "metadata": {},
   "outputs": [
    {
     "data": {
      "text/plain": [
       "array([4.97743752])"
      ]
     },
     "execution_count": 53,
     "metadata": {},
     "output_type": "execute_result"
    }
   ],
   "source": [
    "from sklearn.linear_model import Lasso\n",
    "lasso_reg = Lasso(alpha=0.1)\n",
    "lasso_reg.fit(X, y)\n",
    "lasso_reg.predict([[1.5]])"
   ]
  },
  {
   "cell_type": "markdown",
   "id": "6648e2c5",
   "metadata": {},
   "source": [
    "## 4.5.3 엘라스틱넷\n"
   ]
  },
  {
   "cell_type": "markdown",
   "id": "895e2eb6",
   "metadata": {},
   "source": [
    "$ J(\\theta) = MSE(\\theta) + r\\alpha{\\sum_{i=1}^{n}\\begin{vmatrix}{\\theta_i}\\end{vmatrix}} + {1-r \\over 2}\\alpha{\\sum_{i=1}^{n}}\\theta_i^2$ \n",
    "- 규제항: 릿지와 회귀의 규제항을 단순히 더해서 사용\n",
    "- 혼합 정도는 혼합 비율 r을 사용하여 조절"
   ]
  },
  {
   "cell_type": "markdown",
   "id": "b7537a86",
   "metadata": {},
   "source": [
    "**엘라스틱넷 > 라쏘회귀 > 릿지회귀**\n",
    "- 릿지가 기본이 되지만 쓰이는 특성이 몇 개 뿐이라고 의심되면 라쏘나 엘라스틱넷이 좋음\n",
    "- 특성 수가 훈련 샘플 수보다 많거나 특성 몇 개가 강하게 연관되어 있을때는 라쏘보다 엘라스틱넷을 선호함"
   ]
  },
  {
   "cell_type": "markdown",
   "id": "cc64ea0a",
   "metadata": {},
   "source": [
    "### 릿지 회귀와 라쏘 회귀를 절충한 모델, 혼합 비율 r로 정도 조절"
   ]
  },
  {
   "cell_type": "code",
   "execution_count": 55,
   "id": "4d0bf2cd",
   "metadata": {},
   "outputs": [
    {
     "data": {
      "text/plain": [
       "array([4.97919096])"
      ]
     },
     "execution_count": 55,
     "metadata": {},
     "output_type": "execute_result"
    }
   ],
   "source": [
    "from sklearn.linear_model import ElasticNet\n",
    "elastic_net = ElasticNet(alpha=0.1, l1_ratio=0.5, random_state=42)    #l1_ratio: 혼합 비율\n",
    "elastic_net.fit(X, y)\n",
    "elastic_net.predict([[1.5]])\n",
    "\n",
    "#l1_ratio = 0: 릿지 회귀(L2규제)만 사용\n",
    "#l2_ratio = 1: 라쏘 회귀(L1규제)만 사용\n",
    "# 0 < l1_ratio < 1 :혼합 사용"
   ]
  },
  {
   "cell_type": "markdown",
   "id": "e53a2059",
   "metadata": {},
   "source": [
    "# 4.6 로지스틱 회귀\n",
    "샘플이 특정 클래스에 속할 확률을 추정하는데 사용\n",
    "- 이진 분류기: 추정 확률이 50%가 넘으면 모델은 그 샘플이 해당 클래스에 속한다고 예측함"
   ]
  },
  {
   "cell_type": "markdown",
   "id": "c8b38066",
   "metadata": {},
   "source": [
    "## 4.6.1. 확률 추정\n",
    "- 입력 특성의 가중치 합에 편향을 더하는 것은 선형 회귀와 동일하나 결과값을 로지스틱을 출력하는 것이 다름\n",
    "\n",
    "**로지스틱 회귀 모델의 확률 추정(벡터 표현식)**\n",
    "\n",
    "$ p\\hat = h_{\\theta}(x) = \\sigma(\\theta^T \\cdot x) $\n",
    "\n",
    "**로지스틱 함수**\n",
    "\n",
    "$\\sigma(t) = {1 \\over 1+exp^{-t}}$\n",
    "\n",
    "**로지스틱 회귀모델 예측**\n",
    "\n",
    "$ \\hat{y} = \\begin{cases} 0& \\hat{p} < 0.5일때 \\\\ 1& \\hat{p} \\ge 0.5일때 \\end{cases} $"
   ]
  },
  {
   "cell_type": "markdown",
   "id": "e0d67733",
   "metadata": {},
   "source": [
    "## 4.6.2 훈련과 비용 함수\n",
    "- 훈련의 목적: 양성 샘플(y=1)에 대해서는 높은 확률을 추정하고 음성 샘플(y=0)에 대해서는 낮은 확률은 추정하는 모델 파라미터 벡터 $\\theta$를 찾는 것"
   ]
  },
  {
   "cell_type": "markdown",
   "id": "d8db63e2",
   "metadata": {},
   "source": [
    "**하나의 훈련 샘플에 대한 비용 함수**\n",
    "\n",
    "$ c(\\theta) = \\begin{cases} -log(\\hat{p})& y = 1일 때  \\\\ -log(1-{\\hat{p}})& y = 0일 때 \\end{cases} $\n",
    "- $t$가 $0$에 가까워지면 $-log(t)$가 매우 커지므로 타당하다 할 수 있음: 모델이 양성 샘플을 0에 가까운 모델로 추정하면 비용이 크게 증가할 것\n",
    "- $t$가 $1$에 가까워지면 $-log(t)$는 0에 가까워짐: 음성 샘플의 확률을 0에 가깝게 추정하거나 양성 샘플의 확률을 1에 가깝게 추정하면 비용은 0에 가까워질 것임.\n",
    "\n",
    "**로지스틱 회귀의 비용 함수(로그 손실)**\n",
    "\n",
    "$ J(\\theta) = -{1 \\over m}{\\sum_{i=1}^{m}} [ y^{(i)}log(\\hat{p}^{(i)}) + (1-y^{(i)})log(1-\\hat{p}^{(i)})    ] $\n",
    "\n",
    "- 최솟값을 계산하는 알려진 해 없음\n",
    "- 하지만 볼록함수이므로 경사하강법이 전역 최솟값을 찾는 것을 보장\n",
    "\n",
    "**로지스틱 비용함수의 편도함수**\n",
    "<br>로지스틱 회귀의 비용함수의 j번째 모델 파라미터 $\\theta_j$에 대해 편미분\n",
    "\n",
    "$ {\\partial \\over \\partial\\theta_j}J(\\theta) = {1 \\over m}{\\sum_{i=1}^{m}}(\\sigma(\\theta^Tx^{(i)})-y^{(i)})x_j^{(i)} $\n",
    "\n",
    "- 각 샘플에 대해 예측 오차를 계산하고 j번째 특성값을 곱해서 모든 훈련 샘플에 대해 평균을 냄\n",
    "- 모든 편도함수를 포함한 그레이디언트 벡트를 만들면 배치 경사 하강법 알고리즘을 사용할 수 있음"
   ]
  },
  {
   "cell_type": "markdown",
   "id": "28edf62e",
   "metadata": {},
   "source": [
    "## 4.6.3 결정 경계\n",
    "### 데이터 로드"
   ]
  },
  {
   "cell_type": "code",
   "execution_count": 58,
   "id": "7071359e",
   "metadata": {},
   "outputs": [
    {
     "data": {
      "text/plain": [
       "['data',\n",
       " 'target',\n",
       " 'frame',\n",
       " 'target_names',\n",
       " 'DESCR',\n",
       " 'feature_names',\n",
       " 'filename']"
      ]
     },
     "execution_count": 58,
     "metadata": {},
     "output_type": "execute_result"
    }
   ],
   "source": [
    "from sklearn import datasets\n",
    "iris = datasets.load_iris()\n",
    "list(iris.keys())"
   ]
  },
  {
   "cell_type": "code",
   "execution_count": 59,
   "id": "9b17aef9",
   "metadata": {},
   "outputs": [
    {
     "name": "stderr",
     "output_type": "stream",
     "text": [
      "<ipython-input-59-52d83a40d4e8>:2: DeprecationWarning: `np.int` is a deprecated alias for the builtin `int`. To silence this warning, use `int` by itself. Doing this will not modify any behavior and is safe. When replacing `np.int`, you may wish to use e.g. `np.int64` or `np.int32` to specify the precision. If you wish to review your current use, check the release note link for additional information.\n",
      "Deprecated in NumPy 1.20; for more details and guidance: https://numpy.org/devdocs/release/1.20.0-notes.html#deprecations\n",
      "  y = (iris[\"target\"] == 2).astype(np.int)      #iris virginica이면 1 아니면 0으로 분류\n"
     ]
    }
   ],
   "source": [
    "X = iris[\"data\"][:, 3:]                       #data 정보 중 꽃잎 넓이만 별도로 X에 저장\n",
    "y = (iris[\"target\"] == 2).astype(np.int)      #iris virginica이면 1 아니면 0으로 분류"
   ]
  },
  {
   "cell_type": "markdown",
   "id": "f82d593e",
   "metadata": {},
   "source": [
    "### 로지스틱 회귀 모델 훈련"
   ]
  },
  {
   "cell_type": "code",
   "execution_count": 60,
   "id": "b53612a2",
   "metadata": {},
   "outputs": [
    {
     "data": {
      "text/plain": [
       "LogisticRegression()"
      ]
     },
     "execution_count": 60,
     "metadata": {},
     "output_type": "execute_result"
    }
   ],
   "source": [
    "from sklearn.linear_model import LogisticRegression\n",
    "log_reg = LogisticRegression()\n",
    "log_reg.fit(X, y)"
   ]
  },
  {
   "cell_type": "markdown",
   "id": "8b333179",
   "metadata": {},
   "source": [
    "### 꽃잎의 너비가 0~3cm인 꽃에 대한 모델 추정 확률 계산"
   ]
  },
  {
   "cell_type": "code",
   "execution_count": 61,
   "id": "e14ccf59",
   "metadata": {},
   "outputs": [
    {
     "data": {
      "text/plain": [
       "[<matplotlib.lines.Line2D at 0x286e54d1bb0>]"
      ]
     },
     "execution_count": 61,
     "metadata": {},
     "output_type": "execute_result"
    },
    {
     "data": {
      "image/png": "[encoded data removed]",
      "text/plain": [
       "<Figure size 432x288 with 1 Axes>"
      ]
     },
     "metadata": {
      "needs_background": "light"
     },
     "output_type": "display_data"
    }
   ],
   "source": [
    "#np.linspace(x, y, z): x~y범위의 균일한 점 z개로 구성된 벡터 생성,    reshape(-1, 1): 열 1개로 구성된 배열로 변경\n",
    "X_new = np.linspace(0, 3, 1000).reshape(-1, 1)\n",
    "y_proba = log_reg.predict_proba(X_new)\n",
    "\n",
    "plt.plot(X_new, y_proba[:, 1], \"g-\", linewidth=2, label=\"Iris virginica\")\n",
    "plt.plot(X_new, y_proba[:, 0], \"b-\", linewidth=2, label=\"Not lris virginaca\")"
   ]
  },
  {
   "cell_type": "markdown",
   "id": "8f28cf14",
   "metadata": {},
   "source": [
    "## 4.6.4 소프트맥스 회귀\n",
    "로지스틱 회귀 모델은 여러 개의 이진 분류기를 훈련시켜 연결하지 않고 직접 다중 클래스를 지원하도록 일반화될 수 있음"
   ]
  },
  {
   "cell_type": "markdown",
   "id": "6ab7cdad",
   "metadata": {},
   "source": [
    "**클래스 k에 대한 소프트맥스 점수**\n",
    "\n",
    "$ s_k(x) = (\\theta^{(k)})^Tx $\n",
    "\n",
    "- 각 클래스는 자신만의 파라미터 백터 $\\theta^{(k)}$가 있음\n",
    "- 이 벡터들은 <u>파라미터 행렬</u> $\\Theta$에 행으로 저장됨\n",
    "\n",
    "**소프트맥스 함수**\n",
    "\n",
    "$ \\hat{p}_k = \\sigma(s(X))_k = { exp(s_k(X)) \\over {\\sum_{j=1}^{k}}exp(s_j(X))  } $\n",
    "\n",
    "- $k$: 클래스 수\n",
    "- $s(X)$: 샘플 $x$에 대한 각 클래스의 점수를 담은 벡터 \n",
    "- $ \\sigma(s(X))_k$: 샘플 $x$에 대한 각 클래스의 점수가 주어졌을 때 이 샘플이 클래스 $k$에 속할 추정 확률\n",
    "\n",
    "\n",
    "- 샘플 $x$에 대해 각 클래스의 점수가 계산되면 소프트맥스 함수를 통과시켜 클래스 $k$에 속할 확률 $\\hat{p}_k$를 추정할 수 있음\n",
    "- 이 함수는 각 점수에 지수 함수를 적용한 후 정규화함"
   ]
  },
  {
   "cell_type": "code",
   "execution_count": 63,
   "id": "1dc4af8a",
   "metadata": {},
   "outputs": [
    {
     "data": {
      "text/plain": [
       "LogisticRegression(C=10, multi_class='multinomial', random_state=42)"
      ]
     },
     "execution_count": 63,
     "metadata": {},
     "output_type": "execute_result"
    }
   ],
   "source": [
    "X = iris[\"data\"][:, (2,3)]    #data 정보 중 꽃잎 길이, 꽃잎 너비만 별도로 X에 저장\n",
    "y = iris[\"target\"]\n",
    "\n",
    "#multinomial: 다항 클래스,   C: L2 구제 위한 cost function\n",
    "softmax_reg = LogisticRegression(multi_class=\"multinomial\", C=10, random_state=42)\n",
    "softmax_reg.fit(X, y)"
   ]
  },
  {
   "cell_type": "markdown",
   "id": "b1bc753c",
   "metadata": {},
   "source": [
    "parameter C를 조절하여 Over/Underfitting 문제를 해결\n",
    "- C(cost function) 값이 클 경우: 약한 규제\n",
    "- C 값이 작을 경우: 강한 규제"
   ]
  },
  {
   "cell_type": "code",
   "execution_count": 64,
   "id": "e6737585",
   "metadata": {},
   "outputs": [
    {
     "data": {
      "text/plain": [
       "array([2])"
      ]
     },
     "execution_count": 64,
     "metadata": {},
     "output_type": "execute_result"
    }
   ],
   "source": [
    "softmax_reg.predict([[5, 2]])"
   ]
  },
  {
   "cell_type": "code",
   "execution_count": 65,
   "id": "555ee051",
   "metadata": {},
   "outputs": [
    {
     "data": {
      "text/plain": [
       "array([[6.38014896e-07, 5.74929995e-02, 9.42506362e-01]])"
      ]
     },
     "execution_count": 65,
     "metadata": {},
     "output_type": "execute_result"
    }
   ],
   "source": [
    "softmax_reg.predict_proba([[5, 2]])"
   ]
  },
  {
   "cell_type": "code",
   "execution_count": null,
   "id": "570472d1",
   "metadata": {},
   "outputs": [],
   "source": []
  }
 ],
 "metadata": {
  "kernelspec": {
   "display_name": "Python 3",
   "language": "python",
   "name": "python3"
  },
  "language_info": {
   "codemirror_mode": {
    "name": "ipython",
    "version": 3
   },
   "file_extension": ".py",
   "mimetype": "text/x-python",
   "name": "python",
   "nbconvert_exporter": "python",
   "pygments_lexer": "ipython3",
   "version": "3.9.5"
  }
 },
 "nbformat": 4,
 "nbformat_minor": 5
}
